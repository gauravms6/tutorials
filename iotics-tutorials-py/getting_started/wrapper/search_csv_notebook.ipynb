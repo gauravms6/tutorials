{
 "cells": [
  {
   "cell_type": "code",
   "execution_count": 1,
   "id": "f41f1b6e-392c-4c12-9685-8567c893ecd1",
   "metadata": {},
   "outputs": [],
   "source": [
    "import numpy as np\n",
    "import pandas as pd\n",
    "import matplotlib.pyplot as plt"
   ]
  },
  {
   "cell_type": "code",
   "execution_count": 33,
   "id": "45c918c2-956d-4196-9c1f-f2cb55d0e79e",
   "metadata": {},
   "outputs": [],
   "source": [
    "df = pd.read_csv('twin_properties.csv')"
   ]
  },
  {
   "cell_type": "code",
   "execution_count": 34,
   "id": "2d615c6d-b308-4b10-95ec-bd50dd81a015",
   "metadata": {},
   "outputs": [
    {
     "data": {
      "text/html": [
       "<div>\n",
       "<style scoped>\n",
       "    .dataframe tbody tr th:only-of-type {\n",
       "        vertical-align: middle;\n",
       "    }\n",
       "\n",
       "    .dataframe tbody tr th {\n",
       "        vertical-align: top;\n",
       "    }\n",
       "\n",
       "    .dataframe thead th {\n",
       "        text-align: right;\n",
       "    }\n",
       "</style>\n",
       "<table border=\"1\" class=\"dataframe\">\n",
       "  <thead>\n",
       "    <tr style=\"text-align: right;\">\n",
       "      <th></th>\n",
       "      <th>Twin ID</th>\n",
       "      <th>Property Key</th>\n",
       "      <th>URI Value</th>\n",
       "      <th>Lang</th>\n",
       "      <th>Lang Literal Value</th>\n",
       "      <th>String Literal Value</th>\n",
       "      <th>Numerical Values</th>\n",
       "      <th>Label</th>\n",
       "    </tr>\n",
       "  </thead>\n",
       "  <tbody>\n",
       "    <tr>\n",
       "      <th>0</th>\n",
       "      <td>did:iotics:iotAzeYmevcMvSZoYiXUGqbRbJm1Z41TKCUe</td>\n",
       "      <td>http://data.iotics.com/public#hostAllowList</td>\n",
       "      <td>NaN</td>\n",
       "      <td>NaN</td>\n",
       "      <td>NaN</td>\n",
       "      <td>http://data.iotics.com/public#all</td>\n",
       "      <td>NaN</td>\n",
       "      <td>NaN</td>\n",
       "    </tr>\n",
       "    <tr>\n",
       "      <th>1</th>\n",
       "      <td>did:iotics:iotAzeYmevcMvSZoYiXUGqbRbJm1Z41TKCUe</td>\n",
       "      <td>http://data.iotics.com/public#hostMetadataAllo...</td>\n",
       "      <td>NaN</td>\n",
       "      <td>NaN</td>\n",
       "      <td>NaN</td>\n",
       "      <td>did:iotics:didexample1234absd</td>\n",
       "      <td>NaN</td>\n",
       "      <td>NaN</td>\n",
       "    </tr>\n",
       "    <tr>\n",
       "      <th>2</th>\n",
       "      <td>did:iotics:iotAzeYmevcMvSZoYiXUGqbRbJm1Z41TKCUe</td>\n",
       "      <td>http://data.iotics.com/public#hostMetadataAllo...</td>\n",
       "      <td>NaN</td>\n",
       "      <td>NaN</td>\n",
       "      <td>NaN</td>\n",
       "      <td>did:iotics:iotFmc6tRmH64DddY4dzPq827nywu6eSEAzM</td>\n",
       "      <td>NaN</td>\n",
       "      <td>NaN</td>\n",
       "    </tr>\n",
       "    <tr>\n",
       "      <th>3</th>\n",
       "      <td>did:iotics:iotAzeYmevcMvSZoYiXUGqbRbJm1Z41TKCUe</td>\n",
       "      <td>http://www.w3.org/2000/01/rdf-schema#label</td>\n",
       "      <td>NaN</td>\n",
       "      <td>en</td>\n",
       "      <td>SHIP</td>\n",
       "      <td>NaN</td>\n",
       "      <td>NaN</td>\n",
       "      <td>SHIP</td>\n",
       "    </tr>\n",
       "    <tr>\n",
       "      <th>4</th>\n",
       "      <td>did:iotics:iotAzeYmevcMvSZoYiXUGqbRbJm1Z41TKCUe</td>\n",
       "      <td>https://data.iotics.com/app#createdBy</td>\n",
       "      <td>NaN</td>\n",
       "      <td>NaN</td>\n",
       "      <td>NaN</td>\n",
       "      <td>msg</td>\n",
       "      <td>NaN</td>\n",
       "      <td>NaN</td>\n",
       "    </tr>\n",
       "  </tbody>\n",
       "</table>\n",
       "</div>"
      ],
      "text/plain": [
       "                                           Twin ID  \\\n",
       "0  did:iotics:iotAzeYmevcMvSZoYiXUGqbRbJm1Z41TKCUe   \n",
       "1  did:iotics:iotAzeYmevcMvSZoYiXUGqbRbJm1Z41TKCUe   \n",
       "2  did:iotics:iotAzeYmevcMvSZoYiXUGqbRbJm1Z41TKCUe   \n",
       "3  did:iotics:iotAzeYmevcMvSZoYiXUGqbRbJm1Z41TKCUe   \n",
       "4  did:iotics:iotAzeYmevcMvSZoYiXUGqbRbJm1Z41TKCUe   \n",
       "\n",
       "                                        Property Key  URI Value Lang  \\\n",
       "0        http://data.iotics.com/public#hostAllowList        NaN  NaN   \n",
       "1  http://data.iotics.com/public#hostMetadataAllo...        NaN  NaN   \n",
       "2  http://data.iotics.com/public#hostMetadataAllo...        NaN  NaN   \n",
       "3         http://www.w3.org/2000/01/rdf-schema#label        NaN   en   \n",
       "4              https://data.iotics.com/app#createdBy        NaN  NaN   \n",
       "\n",
       "  Lang Literal Value                             String Literal Value  \\\n",
       "0                NaN                http://data.iotics.com/public#all   \n",
       "1                NaN                    did:iotics:didexample1234absd   \n",
       "2                NaN  did:iotics:iotFmc6tRmH64DddY4dzPq827nywu6eSEAzM   \n",
       "3               SHIP                                              NaN   \n",
       "4                NaN                                              msg   \n",
       "\n",
       "   Numerical Values Label  \n",
       "0               NaN   NaN  \n",
       "1               NaN   NaN  \n",
       "2               NaN   NaN  \n",
       "3               NaN  SHIP  \n",
       "4               NaN   NaN  "
      ]
     },
     "execution_count": 34,
     "metadata": {},
     "output_type": "execute_result"
    }
   ],
   "source": [
    "df.head()"
   ]
  },
  {
   "cell_type": "code",
   "execution_count": 35,
   "id": "bf1fcbc6-37fb-46f4-adbf-dc0e4a48629a",
   "metadata": {},
   "outputs": [
    {
     "data": {
      "text/plain": [
       "Index(['Twin ID', 'Property Key', 'URI Value', 'Lang', 'Lang Literal Value',\n",
       "       'String Literal Value', 'Numerical Values', 'Label'],\n",
       "      dtype='object')"
      ]
     },
     "execution_count": 35,
     "metadata": {},
     "output_type": "execute_result"
    }
   ],
   "source": [
    "df.columns"
   ]
  },
  {
   "cell_type": "code",
   "execution_count": 36,
   "id": "4e7f6e4e-1945-455d-9017-39517e5c0c8d",
   "metadata": {},
   "outputs": [
    {
     "name": "stdout",
     "output_type": "stream",
     "text": [
      "<class 'pandas.core.frame.DataFrame'>\n",
      "RangeIndex: 12 entries, 0 to 11\n",
      "Data columns (total 8 columns):\n",
      " #   Column                Non-Null Count  Dtype  \n",
      "---  ------                --------------  -----  \n",
      " 0   Twin ID               12 non-null     object \n",
      " 1   Property Key          12 non-null     object \n",
      " 2   URI Value             0 non-null      float64\n",
      " 3   Lang                  2 non-null      object \n",
      " 4   Lang Literal Value    2 non-null      object \n",
      " 5   String Literal Value  8 non-null      object \n",
      " 6   Numerical Values      2 non-null      float64\n",
      " 7   Label                 2 non-null      object \n",
      "dtypes: float64(2), object(6)\n",
      "memory usage: 900.0+ bytes\n"
     ]
    }
   ],
   "source": [
    "df.info()"
   ]
  },
  {
   "cell_type": "code",
   "execution_count": 37,
   "id": "f2bf7f36-44bd-48fb-9a4a-f29eba85f70b",
   "metadata": {},
   "outputs": [
    {
     "name": "stderr",
     "output_type": "stream",
     "text": [
      "/var/folders/by/jh1r5nkd5jng9qz7qxb0mjm80000gp/T/ipykernel_32989/2303779330.py:1: FutureWarning: Setting an item of incompatible dtype is deprecated and will raise an error in a future version of pandas. Value 'None' has dtype incompatible with float64, please explicitly cast to a compatible dtype first.\n",
      "  df.fillna(\"None\",inplace=True)\n"
     ]
    }
   ],
   "source": [
    "df.fillna(\"None\",inplace=True)"
   ]
  },
  {
   "cell_type": "code",
   "execution_count": 38,
   "id": "8c38c5ff-b82d-4250-9276-edd485c88746",
   "metadata": {},
   "outputs": [
    {
     "data": {
      "text/html": [
       "<div>\n",
       "<style scoped>\n",
       "    .dataframe tbody tr th:only-of-type {\n",
       "        vertical-align: middle;\n",
       "    }\n",
       "\n",
       "    .dataframe tbody tr th {\n",
       "        vertical-align: top;\n",
       "    }\n",
       "\n",
       "    .dataframe thead th {\n",
       "        text-align: right;\n",
       "    }\n",
       "</style>\n",
       "<table border=\"1\" class=\"dataframe\">\n",
       "  <thead>\n",
       "    <tr style=\"text-align: right;\">\n",
       "      <th></th>\n",
       "      <th>Twin ID</th>\n",
       "      <th>Property Key</th>\n",
       "      <th>URI Value</th>\n",
       "      <th>Lang</th>\n",
       "      <th>Lang Literal Value</th>\n",
       "      <th>String Literal Value</th>\n",
       "      <th>Numerical Values</th>\n",
       "      <th>Label</th>\n",
       "    </tr>\n",
       "  </thead>\n",
       "  <tbody>\n",
       "    <tr>\n",
       "      <th>5</th>\n",
       "      <td>did:iotics:iotAzeYmevcMvSZoYiXUGqbRbJm1Z41TKCUe</td>\n",
       "      <td>https://www.w3.org/2001/XMLSchema#decimal</td>\n",
       "      <td>None</td>\n",
       "      <td>None</td>\n",
       "      <td>None</td>\n",
       "      <td>None</td>\n",
       "      <td>100.0</td>\n",
       "      <td>None</td>\n",
       "    </tr>\n",
       "    <tr>\n",
       "      <th>11</th>\n",
       "      <td>did:iotics:iotJjAdHi2WQHorLWBzk3PAioQ2TZTLAeBQf</td>\n",
       "      <td>https://www.w3.org/2001/XMLSchema#decimal</td>\n",
       "      <td>None</td>\n",
       "      <td>None</td>\n",
       "      <td>None</td>\n",
       "      <td>None</td>\n",
       "      <td>100.0</td>\n",
       "      <td>None</td>\n",
       "    </tr>\n",
       "  </tbody>\n",
       "</table>\n",
       "</div>"
      ],
      "text/plain": [
       "                                            Twin ID  \\\n",
       "5   did:iotics:iotAzeYmevcMvSZoYiXUGqbRbJm1Z41TKCUe   \n",
       "11  did:iotics:iotJjAdHi2WQHorLWBzk3PAioQ2TZTLAeBQf   \n",
       "\n",
       "                                 Property Key URI Value  Lang  \\\n",
       "5   https://www.w3.org/2001/XMLSchema#decimal      None  None   \n",
       "11  https://www.w3.org/2001/XMLSchema#decimal      None  None   \n",
       "\n",
       "   Lang Literal Value String Literal Value Numerical Values Label  \n",
       "5                None                 None            100.0  None  \n",
       "11               None                 None            100.0  None  "
      ]
     },
     "execution_count": 38,
     "metadata": {},
     "output_type": "execute_result"
    }
   ],
   "source": [
    "df[df['Numerical Values']!=\"None\"]"
   ]
  },
  {
   "cell_type": "code",
   "execution_count": 40,
   "id": "a438e3cf-cfd6-4b0d-b4cd-1761e769f49d",
   "metadata": {},
   "outputs": [
    {
     "data": {
      "image/png": "[encoded data removed]",
      "text/plain": [
       "<Figure size 1000x600 with 1 Axes>"
      ]
     },
     "metadata": {},
     "output_type": "display_data"
    }
   ],
   "source": [
    "# Convert 'Numerical Values' column to numeric type\n",
    "df['Numerical Values'] = pd.to_numeric(df['Numerical Values'], errors='coerce')\n",
    "\n",
    "# Drop rows with NaN values in the 'Numerical Values' column\n",
    "df = df.dropna(subset=['Numerical Values'])\n",
    "\n",
    "\n",
    "# Plotting\n",
    "plt.figure(figsize=(10, 6))\n",
    "plt.bar(df['Twin ID'], df['Numerical Values'], color='skyblue')\n",
    "plt.xlabel('Twin ID')\n",
    "plt.ylabel('Numerical Values')\n",
    "plt.title('Numerical Values by Twin ID')\n",
    "plt.xticks(rotation=45)\n",
    "plt.tight_layout()\n",
    "plt.show()"
   ]
  },
  {
   "cell_type": "code",
   "execution_count": 31,
   "id": "d1dc0987-fd92-4fcc-beae-10b4998b150a",
   "metadata": {},
   "outputs": [
    {
     "data": {
      "text/html": [
       "<div>\n",
       "<style scoped>\n",
       "    .dataframe tbody tr th:only-of-type {\n",
       "        vertical-align: middle;\n",
       "    }\n",
       "\n",
       "    .dataframe tbody tr th {\n",
       "        vertical-align: top;\n",
       "    }\n",
       "\n",
       "    .dataframe thead th {\n",
       "        text-align: right;\n",
       "    }\n",
       "</style>\n",
       "<table border=\"1\" class=\"dataframe\">\n",
       "  <thead>\n",
       "    <tr style=\"text-align: right;\">\n",
       "      <th></th>\n",
       "      <th>Twin ID</th>\n",
       "      <th>Host ID</th>\n",
       "      <th>Feed ID</th>\n",
       "      <th>Input ID</th>\n",
       "    </tr>\n",
       "  </thead>\n",
       "  <tbody>\n",
       "    <tr>\n",
       "      <th>0</th>\n",
       "      <td>did:iotics:iotAzeYmevcMvSZoYiXUGqbRbJm1Z41TKCUe</td>\n",
       "      <td>did:iotics:iotF4bijjsnZJNaEYZJFXKqiDWBjPEFPWddr</td>\n",
       "      <td>Fuel</td>\n",
       "      <td>NaN</td>\n",
       "    </tr>\n",
       "  </tbody>\n",
       "</table>\n",
       "</div>"
      ],
      "text/plain": [
       "                                           Twin ID  \\\n",
       "0  did:iotics:iotAzeYmevcMvSZoYiXUGqbRbJm1Z41TKCUe   \n",
       "\n",
       "                                           Host ID Feed ID  Input ID  \n",
       "0  did:iotics:iotF4bijjsnZJNaEYZJFXKqiDWBjPEFPWddr    Fuel       NaN  "
      ]
     },
     "execution_count": 31,
     "metadata": {},
     "output_type": "execute_result"
    }
   ],
   "source": [
    "df = pd.read_csv('twins_feeds_inputs.csv')\n",
    "df"
   ]
  },
  {
   "cell_type": "code",
   "execution_count": 27,
   "id": "0d959270-76f7-4c27-be81-42d99f18fb40",
   "metadata": {},
   "outputs": [
    {
     "data": {
      "text/html": [
       "<div style=\"width:100%;\"><div style=\"position:relative;width:100%;height:0;padding-bottom:60%;\"><span style=\"color:#565656\">Make this Notebook Trusted to load map: File -> Trust Notebook</span><iframe srcdoc=\"&lt;!DOCTYPE html&gt;\n",
       "&lt;html&gt;\n",
       "&lt;head&gt;\n",
       "    \n",
       "    &lt;meta http-equiv=&quot;content-type&quot; content=&quot;text/html; charset=UTF-8&quot; /&gt;\n",
       "    \n",
       "        &lt;script&gt;\n",
       "            L_NO_TOUCH = false;\n",
       "            L_DISABLE_3D = false;\n",
       "        &lt;/script&gt;\n",
       "    \n",
       "    &lt;style&gt;html, body {width: 100%;height: 100%;margin: 0;padding: 0;}&lt;/style&gt;\n",
       "    &lt;style&gt;#map {position:absolute;top:0;bottom:0;right:0;left:0;}&lt;/style&gt;\n",
       "    &lt;script src=&quot;https://cdn.jsdelivr.net/npm/leaflet@1.9.3/dist/leaflet.js&quot;&gt;&lt;/script&gt;\n",
       "    &lt;script src=&quot;https://code.jquery.com/jquery-3.7.1.min.js&quot;&gt;&lt;/script&gt;\n",
       "    &lt;script src=&quot;https://cdn.jsdelivr.net/npm/bootstrap@5.2.2/dist/js/bootstrap.bundle.min.js&quot;&gt;&lt;/script&gt;\n",
       "    &lt;script src=&quot;https://cdnjs.cloudflare.com/ajax/libs/Leaflet.awesome-markers/2.0.2/leaflet.awesome-markers.js&quot;&gt;&lt;/script&gt;\n",
       "    &lt;link rel=&quot;stylesheet&quot; href=&quot;https://cdn.jsdelivr.net/npm/leaflet@1.9.3/dist/leaflet.css&quot;/&gt;\n",
       "    &lt;link rel=&quot;stylesheet&quot; href=&quot;https://cdn.jsdelivr.net/npm/bootstrap@5.2.2/dist/css/bootstrap.min.css&quot;/&gt;\n",
       "    &lt;link rel=&quot;stylesheet&quot; href=&quot;https://netdna.bootstrapcdn.com/bootstrap/3.0.0/css/bootstrap.min.css&quot;/&gt;\n",
       "    &lt;link rel=&quot;stylesheet&quot; href=&quot;https://cdn.jsdelivr.net/npm/@fortawesome/fontawesome-free@6.2.0/css/all.min.css&quot;/&gt;\n",
       "    &lt;link rel=&quot;stylesheet&quot; href=&quot;https://cdnjs.cloudflare.com/ajax/libs/Leaflet.awesome-markers/2.0.2/leaflet.awesome-markers.css&quot;/&gt;\n",
       "    &lt;link rel=&quot;stylesheet&quot; href=&quot;https://cdn.jsdelivr.net/gh/python-visualization/folium/folium/templates/leaflet.awesome.rotate.min.css&quot;/&gt;\n",
       "    \n",
       "            &lt;meta name=&quot;viewport&quot; content=&quot;width=device-width,\n",
       "                initial-scale=1.0, maximum-scale=1.0, user-scalable=no&quot; /&gt;\n",
       "            &lt;style&gt;\n",
       "                #map_bf4f07211ea26762e8cace63ffc62eb4 {\n",
       "                    position: relative;\n",
       "                    width: 100.0%;\n",
       "                    height: 100.0%;\n",
       "                    left: 0.0%;\n",
       "                    top: 0.0%;\n",
       "                }\n",
       "                .leaflet-container { font-size: 1rem; }\n",
       "            &lt;/style&gt;\n",
       "        \n",
       "&lt;/head&gt;\n",
       "&lt;body&gt;\n",
       "    \n",
       "    \n",
       "            &lt;div class=&quot;folium-map&quot; id=&quot;map_bf4f07211ea26762e8cace63ffc62eb4&quot; &gt;&lt;/div&gt;\n",
       "        \n",
       "&lt;/body&gt;\n",
       "&lt;script&gt;\n",
       "    \n",
       "    \n",
       "            var map_bf4f07211ea26762e8cace63ffc62eb4 = L.map(\n",
       "                &quot;map_bf4f07211ea26762e8cace63ffc62eb4&quot;,\n",
       "                {\n",
       "                    center: [51.5, -0.1],\n",
       "                    crs: L.CRS.EPSG3857,\n",
       "                    zoom: 4,\n",
       "                    zoomControl: true,\n",
       "                    preferCanvas: false,\n",
       "                }\n",
       "            );\n",
       "\n",
       "            \n",
       "\n",
       "        \n",
       "    \n",
       "            var tile_layer_eed92e8049e1402c83b7686c6af432f8 = L.tileLayer(\n",
       "                &quot;https://tile.openstreetmap.org/{z}/{x}/{y}.png&quot;,\n",
       "                {&quot;attribution&quot;: &quot;\\u0026copy; \\u003ca href=\\&quot;https://www.openstreetmap.org/copyright\\&quot;\\u003eOpenStreetMap\\u003c/a\\u003e contributors&quot;, &quot;detectRetina&quot;: false, &quot;maxNativeZoom&quot;: 19, &quot;maxZoom&quot;: 19, &quot;minZoom&quot;: 0, &quot;noWrap&quot;: false, &quot;opacity&quot;: 1, &quot;subdomains&quot;: &quot;abc&quot;, &quot;tms&quot;: false}\n",
       "            );\n",
       "        \n",
       "    \n",
       "            tile_layer_eed92e8049e1402c83b7686c6af432f8.addTo(map_bf4f07211ea26762e8cace63ffc62eb4);\n",
       "        \n",
       "    \n",
       "            var marker_543086506f788f6233170621db8f8c8b = L.marker(\n",
       "                [51.5, -0.1],\n",
       "                {}\n",
       "            ).addTo(map_bf4f07211ea26762e8cace63ffc62eb4);\n",
       "        \n",
       "    \n",
       "            var icon_a3fe12efb52b38a49ccb3d6d26067833 = L.AwesomeMarkers.icon(\n",
       "                {&quot;extraClasses&quot;: &quot;fa-rotate-0&quot;, &quot;icon&quot;: &quot;info-sign&quot;, &quot;iconColor&quot;: &quot;white&quot;, &quot;markerColor&quot;: &quot;green&quot;, &quot;prefix&quot;: &quot;glyphicon&quot;}\n",
       "            );\n",
       "            marker_543086506f788f6233170621db8f8c8b.setIcon(icon_a3fe12efb52b38a49ccb3d6d26067833);\n",
       "        \n",
       "    \n",
       "            var marker_c0c15eba00d2213ae21172db62f83e25 = L.marker(\n",
       "                [51.5, -0.1],\n",
       "                {}\n",
       "            ).addTo(map_bf4f07211ea26762e8cace63ffc62eb4);\n",
       "        \n",
       "    \n",
       "            var icon_e02624feb5cecbb0ebdce47781fd1b3c = L.AwesomeMarkers.icon(\n",
       "                {&quot;extraClasses&quot;: &quot;fa-rotate-0&quot;, &quot;icon&quot;: &quot;info-sign&quot;, &quot;iconColor&quot;: &quot;white&quot;, &quot;markerColor&quot;: &quot;green&quot;, &quot;prefix&quot;: &quot;glyphicon&quot;}\n",
       "            );\n",
       "            marker_c0c15eba00d2213ae21172db62f83e25.setIcon(icon_e02624feb5cecbb0ebdce47781fd1b3c);\n",
       "        \n",
       "&lt;/script&gt;\n",
       "&lt;/html&gt;\" style=\"position:absolute;width:100%;height:100%;left:0;top:0;border:none !important;\" allowfullscreen webkitallowfullscreen mozallowfullscreen></iframe></div></div>"
      ],
      "text/plain": [
       "<folium.folium.Map at 0x12770f020>"
      ]
     },
     "execution_count": 27,
     "metadata": {},
     "output_type": "execute_result"
    }
   ],
   "source": [
    "import folium\n",
    "df = pd.read_csv('twins_locations.csv')\n",
    "\n",
    "m = folium.Map(location=[df['Latitude'].mean(), df['Longitude'].mean()], zoom_start=4)\n",
    "\n",
    "# Add markers for each location in the DataFrame\n",
    "for index, row in df.iterrows():\n",
    "    folium.Marker(\n",
    "        location=[row['Latitude'], row['Longitude']],\n",
    "        #tooltip=\"Click me!\",\n",
    "        #popup=f\"Latitude: {row['lat']}, Longitude: {row['lon']}\",\n",
    "        icon=folium.Icon(color=\"green\")\n",
    "    ).add_to(m)\n",
    "\n",
    "# Display the map\n",
    "m"
   ]
  },
  {
   "cell_type": "code",
   "execution_count": null,
   "id": "bbb52c34-c2c8-4622-ad13-e93fd2929a16",
   "metadata": {},
   "outputs": [],
   "source": []
  },
  {
   "cell_type": "code",
   "execution_count": null,
   "id": "3a0a28b6-c3bc-4c14-a4e4-0da901ffd853",
   "metadata": {},
   "outputs": [],
   "source": []
  }
 ],
 "metadata": {
  "kernelspec": {
   "display_name": "Python 3 (ipykernel)",
   "language": "python",
   "name": "python3"
  },
  "language_info": {
   "codemirror_mode": {
    "name": "ipython",
    "version": 3
   },
   "file_extension": ".py",
   "mimetype": "text/x-python",
   "name": "python",
   "nbconvert_exporter": "python",
   "pygments_lexer": "ipython3",
   "version": "3.12.2"
  }
 },
 "nbformat": 4,
 "nbformat_minor": 5
}
